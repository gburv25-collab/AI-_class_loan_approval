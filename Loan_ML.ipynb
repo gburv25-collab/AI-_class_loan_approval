{
  "nbformat": 4,
  "nbformat_minor": 0,
  "metadata": {
    "colab": {
      "provenance": [],
      "authorship_tag": "ABX9TyPuYBpc/llvAzhd41QUs8yT",
      "include_colab_link": true
    },
    "kernelspec": {
      "name": "python3",
      "display_name": "Python 3"
    },
    "language_info": {
      "name": "python"
    }
  },
  "cells": [
    {
      "cell_type": "markdown",
      "metadata": {
        "id": "view-in-github",
        "colab_type": "text"
      },
      "source": [
        "<a href=\"https://colab.research.google.com/github/gburv25-collab/AI-_class_loan_approval/blob/main/Loan_ML.ipynb\" target=\"_parent\"><img src=\"https://colab.research.google.com/assets/colab-badge.svg\" alt=\"Open In Colab\"/></a>"
      ]
    },
    {
      "cell_type": "code",
      "execution_count": 16,
      "metadata": {
        "colab": {
          "base_uri": "https://localhost:8080/"
        },
        "id": "XsxDBaErXpt0",
        "outputId": "cdb8223d-2730-420f-bd5c-b0d4260c7d5d"
      },
      "outputs": [
        {
          "output_type": "stream",
          "name": "stdout",
          "text": [
            "ROC-AUC: 0.6527425783531493\n",
            "PR-AUC : 0.30859425653347505\n",
            "Confusion Matrix (reject=1 at cutoff 0.05):\n",
            " [[   1 2016]\n",
            " [   0  483]]\n",
            "              precision    recall  f1-score   support\n",
            "\n",
            "           0      1.000     0.000     0.001      2017\n",
            "           1      0.193     1.000     0.324       483\n",
            "\n",
            "    accuracy                          0.194      2500\n",
            "   macro avg      0.597     0.500     0.162      2500\n",
            "weighted avg      0.844     0.194     0.063      2500\n",
            "\n"
          ]
        }
      ],
      "source": [
        "#  Code: Train a PD Model and Make Approval Decisions\n",
        "# Python (scikit-learn) - Logistic Regression for Credit Risk (PD)\n",
        "import pandas as pd\n",
        "import numpy as np\n",
        "from sklearn.model_selection import train_test_split\n",
        "from sklearn.compose import ColumnTransformer\n",
        "from sklearn.preprocessing import StandardScaler, OneHotEncoder\n",
        "from sklearn.pipeline import Pipeline\n",
        "from sklearn.linear_model import LogisticRegression\n",
        "from sklearn.metrics import roc_auc_score, average_precision_score, confusion_matrix, classification_report\n",
        "from sklearn.utils.class_weight import compute_class_weight\n",
        "df = pd.read_csv(\"/content/loan_applications.csv\")\n",
        "target_col = \"default_12m\"\n",
        "categorical = [\"purpose\", \"home_ownership\", \"channel\", \"region\", \"loan_term_months\"]\n",
        "numeric = [\"age\", \"annual_income\", \"employment_length\", \"credit_score\", \"debt_to_income\",\n",
        "          \"num_open_accounts\", \"delinquencies_2y\", \"inquiries_6m\", \"loan_amount\", \"interest_rate\"]\n",
        "X = df[categorical + numeric]\n",
        "y = df[target_col].astype(int)\n",
        "X_train, X_test, y_train, y_test = train_test_split(X, y, test_size=0.25, random_state=42, stratify=y)\n",
        "# Class weights for imbalance\n",
        "classes = np.array([0,1])\n",
        "cw = compute_class_weight(\"balanced\", classes=classes, y=y_train)\n",
        "cw_dict = {cls:w for cls,w in zip(classes, cw)}\n",
        "preprocess = ColumnTransformer([\n",
        "   (\"num\", StandardScaler(), numeric),\n",
        "   (\"cat\", OneHotEncoder(handle_unknown=\"ignore\"), categorical),\n",
        "])\n",
        "lr = LogisticRegression(max_iter=2000, class_weight=cw_dict, solver=\"lbfgs\")\n",
        "pipe = Pipeline([(\"prep\", preprocess), (\"model\", lr)])\n",
        "pipe.fit(X_train, y_train)\n",
        "# Evaluate\n",
        "y_proba = pipe.predict_proba(X_test)[:,1]\n",
        "print(\"ROC-AUC:\", roc_auc_score(y_test, y_proba))\n",
        "print(\"PR-AUC :\", average_precision_score(y_test, y_proba))\n",
        "# Policy: approve if PD < 0.05\n",
        "pd_cutoff = 0.05\n",
        "y_pred_policy = (y_proba >= pd_cutoff).astype(int)  # 1 = predict default (reject)\n",
        "print(\"Confusion Matrix (reject=1 at cutoff 0.05):\\n\", confusion_matrix(y_test, y_pred_policy))\n",
        "print(classification_report(y_test, y_pred_policy, digits=3))"
      ]
    },
    {
      "cell_type": "code",
      "source": [],
      "metadata": {
        "id": "-qBUtG14e_L6"
      },
      "execution_count": null,
      "outputs": []
    },
    {
      "cell_type": "code",
      "source": [
        "#  Code: Train a PD Model and Make Approval Decisions\n",
        "# Python (scikit-learn) - Logistic Regression for Credit Risk (PD)\n",
        "import pandas as pd\n",
        "import numpy as np\n",
        "from sklearn.model_selection import train_test_split\n",
        "from sklearn.compose import ColumnTransformer\n",
        "from sklearn.preprocessing import StandardScaler, OneHotEncoder\n",
        "from sklearn.pipeline import Pipeline\n",
        "from sklearn.linear_model import LogisticRegression\n",
        "from sklearn.metrics import roc_auc_score, average_precision_score, confusion_matrix, classification_report\n",
        "from sklearn.utils.class_weight import compute_class_weight\n",
        "df = pd.read_csv(\"/content/loan_applications.csv\")\n",
        "target_col = \"default_12m\"\n",
        "categorical = [\"purpose\", \"home_ownership\", \"channel\", \"region\", \"loan_term_months\"]\n",
        "numeric = [\"age\", \"annual_income\", \"employment_length\", \"credit_score\", \"debt_to_income\",\n",
        "          \"num_open_accounts\", \"delinquencies_2y\", \"inquiries_6m\", \"loan_amount\", \"interest_rate\"]\n",
        "X = df[categorical + numeric]\n",
        "y = df[target_col].astype(int)\n",
        "X_train, X_test, y_train, y_test = train_test_split(X, y, test_size=0.25, random_state=42, stratify=y)\n",
        "# Class weights for imbalance\n",
        "classes = np.array([0,1])\n",
        "cw = compute_class_weight(\"balanced\", classes=classes, y=y_train)\n",
        "cw_dict = {cls:w for cls,w in zip(classes, cw)}\n",
        "preprocess = ColumnTransformer([\n",
        "   (\"num\", StandardScaler(), numeric),\n",
        "   (\"cat\", OneHotEncoder(handle_unknown=\"ignore\"), categorical),\n",
        "])\n",
        "lr = LogisticRegression(max_iter=2000, class_weight=cw_dict, solver=\"lbfgs\")\n",
        "pipe = Pipeline([(\"prep\", preprocess), (\"model\", lr)])\n",
        "pipe.fit(X_train, y_train)\n",
        "# Evaluate\n",
        "y_proba = pipe.predict_proba(X_test)[:,1]\n",
        "print(\"ROC-AUC:\", roc_auc_score(y_test, y_proba))\n",
        "print(\"PR-AUC :\", average_precision_score(y_test, y_proba))\n",
        "# Policy: approve if PD < 0.8\n",
        "pd_cutoff = 0.8\n",
        "y_pred_policy = (y_proba >= pd_cutoff).astype(int)  # 1 = predict default (reject)\n",
        "print(\"Confusion Matrix (reject=1 at cutoff 0.08):\\n\", confusion_matrix(y_test, y_pred_policy))\n",
        "print(classification_report(y_test, y_pred_policy, digits=3))"
      ],
      "metadata": {
        "colab": {
          "base_uri": "https://localhost:8080/"
        },
        "id": "0ufsfM_Te6wC",
        "outputId": "0818d074-9edd-49ba-90dc-fb3e01326b73"
      },
      "execution_count": 17,
      "outputs": [
        {
          "output_type": "stream",
          "name": "stdout",
          "text": [
            "ROC-AUC: 0.6527425783531493\n",
            "PR-AUC : 0.30859425653347505\n",
            "Confusion Matrix (reject=1 at cutoff 0.08):\n",
            " [[1998   19]\n",
            " [ 465   18]]\n",
            "              precision    recall  f1-score   support\n",
            "\n",
            "           0      0.811     0.991     0.892      2017\n",
            "           1      0.486     0.037     0.069       483\n",
            "\n",
            "    accuracy                          0.806      2500\n",
            "   macro avg      0.649     0.514     0.481      2500\n",
            "weighted avg      0.748     0.806     0.733      2500\n",
            "\n"
          ]
        }
      ]
    },
    {
      "cell_type": "code",
      "source": [
        "#  Code: Train a PD Model and Make Approval Decisions\n",
        "# Python (scikit-learn) - Logistic Regression for Credit Risk (PD)\n",
        "import pandas as pd\n",
        "import numpy as np\n",
        "from sklearn.model_selection import train_test_split\n",
        "from sklearn.compose import ColumnTransformer\n",
        "from sklearn.preprocessing import StandardScaler, OneHotEncoder\n",
        "from sklearn.pipeline import Pipeline\n",
        "from sklearn.linear_model import LogisticRegression\n",
        "from sklearn.metrics import roc_auc_score, average_precision_score, confusion_matrix, classification_report\n",
        "from sklearn.utils.class_weight import compute_class_weight\n",
        "df = pd.read_csv(\"/content/loan_applications.csv\")\n",
        "target_col = \"default_12m\"\n",
        "categorical = [\"purpose\", \"home_ownership\", \"channel\", \"region\", \"loan_term_months\"]\n",
        "numeric = [\"age\", \"annual_income\", \"employment_length\", \"credit_score\", \"debt_to_income\",\n",
        "          \"num_open_accounts\", \"delinquencies_2y\", \"inquiries_6m\", \"loan_amount\", \"interest_rate\"]\n",
        "X = df[categorical + numeric]\n",
        "y = df[target_col].astype(int)\n",
        "X_train, X_test, y_train, y_test = train_test_split(X, y, test_size=0.25, random_state=42, stratify=y)\n",
        "# Class weights for imbalance\n",
        "classes = np.array([0,1])\n",
        "cw = compute_class_weight(\"balanced\", classes=classes, y=y_train)\n",
        "cw_dict = {cls:w for cls,w in zip(classes, cw)}\n",
        "preprocess = ColumnTransformer([\n",
        "   (\"num\", StandardScaler(), numeric),\n",
        "   (\"cat\", OneHotEncoder(handle_unknown=\"ignore\"), categorical),\n",
        "])\n",
        "lr = LogisticRegression(max_iter=2000, class_weight=cw_dict, solver=\"lbfgs\")\n",
        "pipe = Pipeline([(\"prep\", preprocess), (\"model\", lr)])\n",
        "pipe.fit(X_train, y_train)\n",
        "# Evaluate\n",
        "y_proba = pipe.predict_proba(X_test)[:,1]\n",
        "print(\"ROC-AUC:\", roc_auc_score(y_test, y_proba))\n",
        "print(\"PR-AUC :\", average_precision_score(y_test, y_proba))\n",
        "# Policy: approve if PD < 0.12\n",
        "pd_cutoff = 0.12\n",
        "y_pred_policy = (y_proba >= pd_cutoff).astype(int)  # 1 = predict default (reject)\n",
        "print(\"Confusion Matrix (reject=1 at cutoff 0.12):\\n\", confusion_matrix(y_test, y_pred_policy))\n",
        "print(classification_report(y_test, y_pred_policy, digits=3))"
      ],
      "metadata": {
        "colab": {
          "base_uri": "https://localhost:8080/"
        },
        "id": "UvYCDUdPfH4a",
        "outputId": "fcf5748a-390e-4585-de31-4ba0a87eaa80"
      },
      "execution_count": 18,
      "outputs": [
        {
          "output_type": "stream",
          "name": "stdout",
          "text": [
            "ROC-AUC: 0.6527425783531493\n",
            "PR-AUC : 0.30859425653347505\n",
            "Confusion Matrix (reject=1 at cutoff 0.12):\n",
            " [[  18 1999]\n",
            " [   3  480]]\n",
            "              precision    recall  f1-score   support\n",
            "\n",
            "           0      0.857     0.009     0.018      2017\n",
            "           1      0.194     0.994     0.324       483\n",
            "\n",
            "    accuracy                          0.199      2500\n",
            "   macro avg      0.525     0.501     0.171      2500\n",
            "weighted avg      0.729     0.199     0.077      2500\n",
            "\n"
          ]
        }
      ]
    }
  ]
}